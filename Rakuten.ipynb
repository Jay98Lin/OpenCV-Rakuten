{
 "cells": [
  {
   "cell_type": "code",
   "execution_count": 1,
   "metadata": {
    "scrolled": true
   },
   "outputs": [
    {
     "data": {
      "text/html": [
       "\n",
       "    <video alt='test' controls>\n",
       "        <source src='./Rakuten.mp4' type='video/mp4'>\n",
       "    </video>\n"
      ],
      "text/plain": [
       "<IPython.core.display.HTML object>"
      ]
     },
     "execution_count": 1,
     "metadata": {},
     "output_type": "execute_result"
    }
   ],
   "source": [
    "import cv2\n",
    "import numpy as np\n",
    "from IPython.display import HTML\n",
    "\n",
    "HTML('''\n",
    "    <video alt='test' controls>\n",
    "        <source src='./Rakuten.mp4' type='video/mp4'>\n",
    "    </video>\n",
    "''')\n"
   ]
  },
  {
   "cell_type": "code",
   "execution_count": 2,
   "metadata": {},
   "outputs": [
    {
     "name": "stdout",
     "output_type": "stream",
     "text": [
      "开始处理视频...\n"
     ]
    }
   ],
   "source": [
    "\n",
    "# 打开视频文件\n",
    "cap = cv2.VideoCapture('Rakuten.mp4')\n",
    "\n",
    "# 获取视频的基本信息\n",
    "fps = int(cap.get(cv2.CAP_PROP_FPS))\n",
    "frame_count = int(cap.get(cv2.CAP_PROP_FRAME_COUNT))\n",
    "width = int(cap.get(cv2.CAP_PROP_FRAME_WIDTH))\n",
    "height = int(cap.get(cv2.CAP_PROP_FRAME_HEIGHT))\n",
    "\n",
    "# 定义输出视频的参数\n",
    "fourcc = cv2.VideoWriter_fourcc(*'MP4V')  # 注意: 在某些系统上，'MP4V'需要大写\n",
    "out = cv2.VideoWriter('./video/processed_video4.mp4', fourcc, fps, (width, height))\n",
    "\n",
    "print(\"开始处理视频...\")\n"
   ]
  },
  {
   "cell_type": "code",
   "execution_count": 3,
   "metadata": {},
   "outputs": [],
   "source": [
    "def apply_effect(frame, effect):\n",
    "    # 默认情况下，直接处理原始帧\n",
    "    processed = frame\n",
    "\n",
    "    if effect == 'color_space_conversion':\n",
    "        # 颜色空间转换：BGR到灰度\n",
    "        gray = cv2.cvtColor(frame, cv2.COLOR_BGR2GRAY)\n",
    "        processed = cv2.cvtColor(gray, cv2.COLOR_GRAY2BGR)\n",
    "    elif effect == 'thresholding':\n",
    "        # 阈值处理\n",
    "        _, thresh = cv2.threshold(cv2.cvtColor(frame, cv2.COLOR_BGR2GRAY), 127, 255, cv2.THRESH_BINARY)\n",
    "        processed = cv2.cvtColor(thresh, cv2.COLOR_GRAY2BGR)\n",
    "    elif effect == 'smoothing':\n",
    "        # 平滑和模糊\n",
    "        processed = cv2.GaussianBlur(frame, (5, 5), 0)\n",
    "    elif effect == 'edge_detection':\n",
    "        # 边缘检测\n",
    "        gray = cv2.cvtColor(frame, cv2.COLOR_BGR2GRAY)\n",
    "        edges = cv2.Canny(gray, 100, 200)\n",
    "        processed = cv2.cvtColor(edges, cv2.COLOR_GRAY2BGR)\n",
    "    elif effect == 'inversion':\n",
    "        # 反色处理\n",
    "        processed = cv2.bitwise_not(frame)\n",
    "    elif effect == 'erosion':\n",
    "        # 腐蚀操作\n",
    "        kernel = np.ones((5, 5), np.uint8)\n",
    "        processed = cv2.erode(frame, kernel, iterations=1)\n",
    "    elif effect == 'sharpening':\n",
    "        # 锐化处理\n",
    "        kernel = np.array([[-1, -1, -1], [-1, 9, -1], [-1, -1, -1]])\n",
    "        processed = cv2.filter2D(frame, -1, kernel)\n",
    "    elif effect == 'dilation':\n",
    "        # 形态学操作：膨胀\n",
    "        kernel = np.ones((5, 5), np.uint8)\n",
    "        processed = cv2.dilate(frame, kernel, iterations=1)\n",
    "    elif effect == 'histogram_equalization':\n",
    "        # 直方图均衡化\n",
    "        gray = cv2.cvtColor(frame, cv2.COLOR_BGR2GRAY)\n",
    "        equalized = cv2.equalizeHist(gray)\n",
    "        processed = cv2.cvtColor(equalized, cv2.COLOR_GRAY2BGR)\n",
    "    \n",
    "    # 在图像上添加特效名称文本\n",
    "    cv2.putText(processed, effect, (10, 30), cv2.FONT_HERSHEY_SIMPLEX, 2, (0, 255, 0), 5)\n",
    "    return processed\n"
   ]
  },
  {
   "cell_type": "code",
   "execution_count": 4,
   "metadata": {},
   "outputs": [
    {
     "name": "stdout",
     "output_type": "stream",
     "text": [
      "处理完成，共写入 1622 帧。\n"
     ]
    }
   ],
   "source": [
    "# 计算每个特效应用的帧数\n",
    "fps = int(cap.get(cv2.CAP_PROP_FPS))  # 获取视频的帧率\n",
    "initial_frames = fps * 5  # 前5秒对应的帧数\n",
    "effect_frames = fps * 5  # 每5秒应用一种特效\n",
    "\n",
    "# 特效列表\n",
    "effects = ['color_space_conversion', 'thresholding', 'smoothing', 'edge_detection', 'inversion', 'erosion', 'sharpening', 'dilation', 'histogram_equalization']\n",
    "effect_index = 0  # 从第一个特效开始\n",
    "\n",
    "# 读取和处理视频\n",
    "current_frame = 0\n",
    "effect_frame_counter = 0  # 记录自从上次特效切换以来经过的帧数 \n",
    "\n",
    "while True:\n",
    "    ret, frame = cap.read()\n",
    "    if not ret:\n",
    "        break\n",
    "\n",
    "    # 当前帧相对于特效开始的偏移\n",
    "    relative_frame = current_frame - initial_frames\n",
    "    \n",
    "    if current_frame < initial_frames:\n",
    "        # 前5秒内不应用特效，直接写入原始帧\n",
    "        out.write(frame)\n",
    "    else:\n",
    "        # 判断是否应切换特效\n",
    "        if relative_frame % effect_frames == 0 and relative_frame != 0:\n",
    "            # 当达到特效持续时间，切换到下一个特效\n",
    "            effect_index += 1\n",
    "        \n",
    "        # 计算当前特效\n",
    "        effect = effects[effect_index % len(effects)]\n",
    "        \n",
    "        # 应用特效\n",
    "        processed_frame = apply_effect(frame, effect)\n",
    "        \n",
    "        # 写入处理后的帧\n",
    "        out.write(processed_frame)\n",
    "    \n",
    "    # 更新帧计数器\n",
    "    current_frame += 1\n",
    "\n",
    "    # 更新特效帧计数器\n",
    "    effect_frame_counter = relative_frame % effect_frames + 1\n",
    "\n",
    "\n",
    "\n",
    "print(f\"处理完成，共写入 {frame_count} 帧。\")        \n",
    "        \n",
    "# 释放写入对象和捕获对象\n",
    "out.release()\n",
    "cap.release()\n",
    "cv2.destroyAllWindows()"
   ]
  },
  {
   "cell_type": "code",
   "execution_count": null,
   "metadata": {},
   "outputs": [],
   "source": []
  },
  {
   "cell_type": "code",
   "execution_count": null,
   "metadata": {},
   "outputs": [],
   "source": []
  }
 ],
 "metadata": {
  "kernelspec": {
   "display_name": "Python 3 (ipykernel)",
   "language": "python",
   "name": "python3"
  },
  "language_info": {
   "codemirror_mode": {
    "name": "ipython",
    "version": 3
   },
   "file_extension": ".py",
   "mimetype": "text/x-python",
   "name": "python",
   "nbconvert_exporter": "python",
   "pygments_lexer": "ipython3",
   "version": "3.11.5"
  }
 },
 "nbformat": 4,
 "nbformat_minor": 2
}
